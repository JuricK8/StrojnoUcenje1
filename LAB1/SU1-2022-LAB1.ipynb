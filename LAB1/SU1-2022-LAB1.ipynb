{
 "cells": [
  {
   "cell_type": "markdown",
   "metadata": {},
   "source": [
    "Sveučilište u Zagrebu  \n",
    "Fakultet elektrotehnike i računarstva  \n",
    "  \n",
    "## Strojno učenje 1 2022/2023  \n",
    "http://www.fer.unizg.hr/predmet/struce1"
   ]
  },
  {
   "cell_type": "markdown",
   "metadata": {},
   "source": [
    "------------------------------\n",
    "\n",
    "### Prva laboratorijska vježba: Linearna regresija\n",
    "\n",
    "*Verzija: 1.0\n",
    "Zadnji put ažurirano: 1. 10. 2021.*\n",
    "\n",
    "(c) 2015-2022 Jan Šnajder, Domagoj Alagić \n",
    "\n",
    "Rok za predaju: **23. listopada 2022. u 23:59h**\n",
    "\n",
    "------------------------------"
   ]
  },
  {
   "cell_type": "markdown",
   "metadata": {},
   "source": [
    "### Upute\n",
    "\n",
    "Prva laboratorijska vježba sastoji se od sedam zadataka. U nastavku slijedite upute navedene u ćelijama s tekstom. Rješavanje vježbe svodi se na **dopunjavanje ove bilježnice**: umetanja ćelije ili više njih **ispod** teksta zadatka, pisanja odgovarajućeg kôda te evaluiranja ćelija. \n",
    "\n",
    "Osigurajte da u potpunosti **razumijete** kôd koji ste napisali. Kod predaje vježbe, morate biti u stanju na zahtjev asistenta (ili demonstratora) preinačiti i ponovno evaluirati Vaš kôd. Nadalje, morate razumjeti teorijske osnove onoga što radite, u okvirima onoga što smo obradili na predavanju. Ispod nekih zadataka možete naći i pitanja koja služe kao smjernice za bolje razumijevanje gradiva (**nemojte pisati** odgovore na pitanja u bilježnicu). Stoga se nemojte ograničiti samo na to da riješite zadatak, nego slobodno eksperimentirajte. To upravo i jest svrha ovih vježbi.\n",
    "\n",
    "Vježbe trebate raditi **samostalno**. Možete se konzultirati s drugima o načelnom načinu rješavanja, ali u konačnici morate sami odraditi vježbu. U protivnome vježba nema smisla."
   ]
  },
  {
   "cell_type": "code",
   "execution_count": 73,
   "metadata": {
    "collapsed": false
   },
   "outputs": [
    {
     "name": "stdout",
     "output_type": "stream",
     "text": [
      "Populating the interactive namespace from numpy and matplotlib\n"
     ]
    },
    {
     "name": "stderr",
     "output_type": "stream",
     "text": [
      "c:\\Users\\KATARINA\\AppData\\Local\\Programs\\Python\\Python39\\lib\\site-packages\\IPython\\core\\magics\\pylab.py:159: UserWarning: pylab import has clobbered these variables: ['matmul', 'poly', 'degrees', 'clf', 'axes']\n",
      "`%matplotlib` prevents importing * from pylab and numpy\n",
      "  warn(\"pylab import has clobbered these variables: %s\"  % clobbered +\n"
     ]
    }
   ],
   "source": [
    "# Učitaj osnovne biblioteke...\n",
    "import numpy as np\n",
    "import sklearn\n",
    "import matplotlib.pyplot as plt\n",
    "%pylab inline"
   ]
  },
  {
   "cell_type": "markdown",
   "metadata": {},
   "source": [
    "### 1. Jednostavna regresija"
   ]
  },
  {
   "cell_type": "markdown",
   "metadata": {},
   "source": [
    "Zadan je skup primjera $\\mathcal{D}=\\{(x^{(i)},y^{(i)})\\}_{i=1}^4 = \\{(0,4),(1,1),(2,2),(4,5)\\}$. Primjere predstavite matricom $\\mathbf{X}$ dimenzija $N\\times n$ (u ovom slučaju $4\\times 1$) i vektorom oznaka $\\textbf{y}$, dimenzija $N\\times 1$ (u ovom slučaju $4\\times 1$), na sljedeći način:\n"
   ]
  },
  {
   "cell_type": "code",
   "execution_count": 74,
   "metadata": {
    "collapsed": true
   },
   "outputs": [],
   "source": [
    "X = np.array([[0],[1],[2],[4]])\n",
    "y = np.array([4,1,2,5])"
   ]
  },
  {
   "cell_type": "markdown",
   "metadata": {},
   "source": [
    "### (a)\n",
    "\n",
    "Proučite funkciju [`PolynomialFeatures`](http://scikit-learn.org/stable/modules/generated/sklearn.preprocessing.PolynomialFeatures.html) iz biblioteke `sklearn` i upotrijebite je za generiranje matrice dizajna $\\mathbf{\\Phi}$ koja ne koristi preslikavanje u prostor više dimenzije (samo će svakom primjeru biti dodane *dummy* jedinice; $m=n+1$).\n"
   ]
  },
  {
   "cell_type": "code",
   "execution_count": 75,
   "metadata": {
    "collapsed": true
   },
   "outputs": [
    {
     "name": "stdout",
     "output_type": "stream",
     "text": [
      "[[1. 0.]\n",
      " [1. 1.]\n",
      " [1. 2.]\n",
      " [1. 4.]]\n"
     ]
    }
   ],
   "source": [
    "from sklearn.preprocessing import PolynomialFeatures\n",
    "poly = PolynomialFeatures(degree=1)\n",
    "Fi_matrix = poly.fit_transform(X)\n",
    "print(Fi_matrix)"
   ]
  },
  {
   "cell_type": "markdown",
   "metadata": {},
   "source": [
    "### (b)"
   ]
  },
  {
   "cell_type": "markdown",
   "metadata": {},
   "source": [
    "Upoznajte se s modulom [`linalg`](http://docs.scipy.org/doc/numpy/reference/routines.linalg.html). Izračunajte težine $\\mathbf{w}$ modela linearne regresije kao $\\mathbf{w}=(\\mathbf{\\Phi}^\\intercal\\mathbf{\\Phi})^{-1}\\mathbf{\\Phi}^\\intercal\\mathbf{y}$. Zatim se uvjerite da isti rezultat možete dobiti izračunom pseudoinverza $\\mathbf{\\Phi}^+$ matrice dizajna, tj. $\\mathbf{w}=\\mathbf{\\Phi}^+\\mathbf{y}$, korištenjem funkcije [`pinv`](http://docs.scipy.org/doc/numpy/reference/generated/numpy.linalg.pinv.html)."
   ]
  },
  {
   "cell_type": "code",
   "execution_count": 76,
   "metadata": {
    "collapsed": true
   },
   "outputs": [
    {
     "name": "stdout",
     "output_type": "stream",
     "text": [
      "[2.2        0.45714286]\n",
      "[2.2        0.45714286]\n"
     ]
    }
   ],
   "source": [
    "from tkinter import Y\n",
    "from numpy import linalg\n",
    "Fi_matrix_T = np.transpose(Fi_matrix)\n",
    "W1 = np.matmul(np.matmul(linalg.inv(np.matmul(Fi_matrix_T, Fi_matrix)), Fi_matrix_T), y)\n",
    "print(W1)\n",
    "W2 = np.matmul(linalg.pinv(Fi_matrix), y)\n",
    "print(W2)"
   ]
  },
  {
   "cell_type": "markdown",
   "metadata": {},
   "source": [
    "Radi jasnoće, u nastavku je vektor $\\mathbf{x}$ s dodanom *dummy* jedinicom $x_0=1$ označen kao $\\tilde{\\mathbf{x}}$."
   ]
  },
  {
   "cell_type": "markdown",
   "metadata": {},
   "source": [
    "### (c)"
   ]
  },
  {
   "cell_type": "markdown",
   "metadata": {},
   "source": [
    "Prikažite primjere iz $\\mathcal{D}$ i funkciju $h(\\tilde{\\mathbf{x}})=\\mathbf{w}^\\intercal\\tilde{\\mathbf{x}}$. Izračunajte pogrešku učenja prema izrazu $E(h|\\mathcal{D})=\\frac{1}{2}\\sum_{i=1}^N(\\tilde{\\mathbf{y}}^{(i)} - h(\\tilde{\\mathbf{x}}^{(i)}))^2$. Možete koristiti funkciju srednje kvadratne pogreške [`mean_squared_error`]( http://scikit-learn.org/stable/modules/generated/sklearn.metrics.mean_squared_error.html) iz modula [`sklearn.metrics`](http://scikit-learn.org/stable/modules/classes.html#module-sklearn.metrics).\n",
    "\n",
    "**Q:** Gore definirana funkcija pogreške $E(h|\\mathcal{D})$ i funkcija srednje kvadratne pogreške nisu posve identične. U čemu je razlika? Koja je \"realnija\"?"
   ]
  },
  {
   "cell_type": "code",
   "execution_count": 77,
   "metadata": {
    "collapsed": true
   },
   "outputs": [
    {
     "name": "stdout",
     "output_type": "stream",
     "text": [
      "D(x,y) | h(x~)\n",
      "(0, 4) | (0, 2.2)\n",
      "(1, 1) | (1, 2.6571428571428575)\n",
      "(2, 2) | (2, 3.1142857142857143)\n",
      "(4, 5) | (4, 4.0285714285714285)\n",
      "2.042857142857143\n"
     ]
    }
   ],
   "source": [
    "from tkinter import W\n",
    "from sklearn.metrics import mean_squared_error\n",
    "\n",
    "estimated_values = []\n",
    "print(\"D(x,y) | h(x~)\")\n",
    "for i in range(X.shape[0]):\n",
    "    h = np.dot(Fi_matrix[i],np.transpose(W1))\n",
    "    estimated_values.append(h)\n",
    "    print(f'({X[i][0]}, {y[i]}) | ({X[i][0]}, {h})')\n",
    "err = mean_squared_error(y, estimated_values)\n",
    "print(err)\n"
   ]
  },
  {
   "cell_type": "markdown",
   "metadata": {},
   "source": [
    "### (d)"
   ]
  },
  {
   "cell_type": "markdown",
   "metadata": {},
   "source": [
    "Uvjerite se da za primjere iz $\\mathcal{D}$ težine $\\mathbf{w}$ ne možemo naći rješavanjem sustava $\\mathbf{w}=\\mathbf{\\Phi}^{-1}\\mathbf{y}$, već da nam doista treba pseudoinverz.\n",
    "\n",
    "**Q:** Zašto je to slučaj? Bi li se problem mogao riješiti preslikavanjem primjera u višu dimenziju? Ako da, bi li to uvijek funkcioniralo, neovisno o skupu primjera $\\mathcal{D}$? Pokažite na primjeru."
   ]
  },
  {
   "cell_type": "code",
   "execution_count": 78,
   "metadata": {
    "collapsed": true
   },
   "outputs": [
    {
     "name": "stdout",
     "output_type": "stream",
     "text": [
      "Last 2 dimensions of the array must be square\n"
     ]
    }
   ],
   "source": [
    "try:\n",
    "    inv_fi = linalg.inv(Fi_matrix)\n",
    "    w_try = np.matmul(inv_fi, y)\n",
    "except Exception as e:\n",
    "    print(e)"
   ]
  },
  {
   "cell_type": "markdown",
   "metadata": {},
   "source": [
    "### (e) "
   ]
  },
  {
   "cell_type": "markdown",
   "metadata": {},
   "source": [
    "Proučite klasu [`LinearRegression`](http://scikit-learn.org/stable/modules/generated/sklearn.linear_model.LinearRegression.html) iz modula [`sklearn.linear_model`](http://scikit-learn.org/stable/modules/classes.html#module-sklearn.linear_model). Provjerite jesu li težine koje izračunava ta funkcija (dostupne pomoću atributa `coef_` i `intercept_`) jednake onima koje ste izračunali gore. Ako nisu, prilagodite kôd tako da jest.\n",
    "\n",
    "**NB:** Obratite pozornost na to kako klase [`LinearRegression`](http://scikit-learn.org/stable/modules/generated/sklearn.linear_model.LinearRegression.html) i [`PolynomialFeatures`](http://scikit-learn.org/stable/modules/generated/sklearn.preprocessing.PolynomialFeatures.html) koriste pomak i osigurajte da ga ne dodajete više puta.\n",
    "\n",
    "Izračunajte predikcije modela (metoda `predict`) i uvjerite se da je pogreška učenja identična onoj koju ste ranije izračunali."
   ]
  },
  {
   "cell_type": "code",
   "execution_count": 79,
   "metadata": {
    "collapsed": true
   },
   "outputs": [
    {
     "name": "stdout",
     "output_type": "stream",
     "text": [
      "[0.         0.45714286]\n",
      "2.2\n"
     ]
    }
   ],
   "source": [
    "from sklearn.linear_model import LinearRegression\n",
    "reg = LinearRegression().fit(Fi_matrix, y)\n",
    "print(reg.coef_)\n",
    "print(reg.intercept_)\n",
    "#reg.coef_[0] = reg.coef_[0] + reg.intercept_\n",
    "#print(reg.coef_)"
   ]
  },
  {
   "cell_type": "markdown",
   "metadata": {},
   "source": [
    "### 2. Polinomijalna regresija i utjecaj šuma"
   ]
  },
  {
   "cell_type": "markdown",
   "metadata": {},
   "source": [
    "### (a)\n",
    "\n",
    "Razmotrimo sada regresiju na većem broju primjera. Definirajte funkciju `make_labels(X, f, noise=0)` koja uzima matricu neoznačenih primjera $\\mathbf{X}_{N\\times n}$ te generira vektor njihovih oznaka $\\mathbf{y}_{N\\times 1}$. Oznake se generiraju kao $y^{(i)} = f(x^{(i)})+\\mathcal{N}(0,\\sigma^2)$, gdje je $f:\\mathbb{R}^n\\to\\mathbb{R}$ stvarna funkcija koja je generirala podatke (koja nam je u stvarnosti nepoznata), a $\\sigma$ je standardna devijacija Gaussovog šuma, definirana parametrom `noise`. Za generiranje šuma možete koristiti funkciju [`numpy.random.normal`](https://numpy.org/doc/stable/reference/random/generated/numpy.random.normal.html). \n",
    "\n",
    "Generirajte skup za učenje od $N=50$ primjera uniformno distribuiranih u intervalu $[-5,5]$ pomoću funkcije $f(x) = 5 + x -2 x^2 -5 x^3$ uz šum  $\\sigma=200$:"
   ]
  },
  {
   "cell_type": "code",
   "execution_count": 80,
   "metadata": {
    "collapsed": true
   },
   "outputs": [],
   "source": [
    "from numpy.random import normal\n",
    "def make_labels(X, f, noise=0):\n",
    "    lables=[]\n",
    "    no_noise = []\n",
    "    for i in range (X.shape[0]):\n",
    "        noise_val = np.random.normal(0, noise)\n",
    "        lables.append((5+X[i][0] - 2*pow(X[i][0],2) - 5*pow(X[i][0],3)) + noise_val)\n",
    "        no_noise.append((5+X[i][0] - 2*pow(X[i][0],2) - 5*pow(X[i][0],3)))\n",
    "    return lables, no_noise"
   ]
  },
  {
   "cell_type": "code",
   "execution_count": 81,
   "metadata": {
    "collapsed": true
   },
   "outputs": [],
   "source": [
    "def make_instances(x1, x2, N) :\n",
    "    return np.array([np.array([x]) for x in np.linspace(x1,x2,N)])"
   ]
  },
  {
   "cell_type": "code",
   "execution_count": 82,
   "metadata": {
    "collapsed": true
   },
   "outputs": [],
   "source": [
    "instances = make_instances(-5,5,50)\n",
    "lables, no_noise = make_labels(instances, f=0, noise=200)\n"
   ]
  },
  {
   "cell_type": "markdown",
   "metadata": {},
   "source": [
    "Prikažite taj skup funkcijom [`scatter`](http://matplotlib.org/api/pyplot_api.html#matplotlib.pyplot.scatter)."
   ]
  },
  {
   "cell_type": "code",
   "execution_count": 83,
   "metadata": {
    "collapsed": true
   },
   "outputs": [
    {
     "data": {
      "text/plain": [
       "<matplotlib.collections.PathCollection at 0x233a754cfa0>"
      ]
     },
     "execution_count": 83,
     "metadata": {},
     "output_type": "execute_result"
    },
    {
     "data": {
      "image/png": "[encoded data removed]",
      "text/plain": [
       "<Figure size 432x288 with 1 Axes>"
      ]
     },
     "metadata": {
      "needs_background": "light"
     },
     "output_type": "display_data"
    }
   ],
   "source": [
    "from cProfile import label\n",
    "\n",
    "plt.plot(instances, no_noise)\n",
    "plt.scatter(instances, lables)"
   ]
  },
  {
   "cell_type": "markdown",
   "metadata": {},
   "source": [
    "### (b)"
   ]
  },
  {
   "cell_type": "markdown",
   "metadata": {},
   "source": [
    "Trenirajte model polinomijalne regresije stupnja $d=3$. Na istom grafikonu prikažite naučeni model $h(\\mathbf{x})=\\mathbf{w}^\\intercal\\tilde{\\mathbf{x}}$ i primjere za učenje. Izračunajte pogrešku učenja modela."
   ]
  },
  {
   "cell_type": "code",
   "execution_count": 84,
   "metadata": {
    "collapsed": true
   },
   "outputs": [
    {
     "name": "stdout",
     "output_type": "stream",
     "text": [
      "37889.154776662595\n"
     ]
    }
   ],
   "source": [
    "poly2 = PolynomialFeatures(degree=3)\n",
    "Fi_matrix2 = poly2.fit_transform(instances)\n",
    "reg2 = LinearRegression().fit(Fi_matrix2, lables)\n",
    "reg2.coef_[0] = reg2.coef_[0] + reg2.intercept_\n",
    "\n",
    "estimated_values2 = []\n",
    "#prvo rijesi w sa zbrajanjem pa onda ovo\n",
    "for i in range(instances.shape[0]):\n",
    "    h = np.dot(Fi_matrix2[i],np.transpose(reg2.coef_))\n",
    "    estimated_values2.append(h)\n",
    "err2 = mean_squared_error(lables, estimated_values2)\n",
    "print(err2)\n"
   ]
  },
  {
   "cell_type": "code",
   "execution_count": 85,
   "metadata": {},
   "outputs": [
    {
     "data": {
      "text/plain": [
       "<matplotlib.collections.PathCollection at 0x233a75b9850>"
      ]
     },
     "execution_count": 85,
     "metadata": {},
     "output_type": "execute_result"
    },
    {
     "data": {
      "image/png": "[encoded data removed]",
      "text/plain": [
       "<Figure size 432x288 with 1 Axes>"
      ]
     },
     "metadata": {
      "needs_background": "light"
     },
     "output_type": "display_data"
    }
   ],
   "source": [
    "plt.plot(instances, estimated_values2)\n",
    "plt.scatter(instances, lables)"
   ]
  },
  {
   "cell_type": "markdown",
   "metadata": {},
   "source": [
    "### 3. Odabir modela"
   ]
  },
  {
   "cell_type": "markdown",
   "metadata": {},
   "source": [
    "### (a)\n",
    "\n",
    "Na skupu podataka iz zadatka 2 trenirajte pet modela linearne regresije $\\mathcal{H}_d$ različite složenosti, gdje je $d$ stupanj polinoma, $d\\in\\{1,3,5,10,20\\}$. Prikažite na istome grafikonu skup za učenje i funkcije $h_d(\\mathbf{x})$ za svih pet modela (preporučujemo koristiti `plot` unutar `for` petlje). Izračunajte pogrešku učenja svakog od modela.\n",
    "\n",
    "**Q:** Koji model ima najmanju pogrešku učenja i zašto?"
   ]
  },
  {
   "cell_type": "code",
   "execution_count": 86,
   "metadata": {
    "collapsed": true
   },
   "outputs": [
    {
     "name": "stdout",
     "output_type": "stream",
     "text": [
      "Error for degree=1 is 49564.36051089393.\n",
      "Error for degree=3 is 37889.154776662595.\n",
      "Error for degree=5 is 36993.076074269266.\n",
      "Error for degree=10 is 32381.519299321248.\n",
      "Error for degree=20 is 22633.081426752717.\n"
     ]
    },
    {
     "data": {
      "image/png": "[encoded data removed]",
      "text/plain": [
       "<Figure size 432x288 with 1 Axes>"
      ]
     },
     "metadata": {
      "needs_background": "light"
     },
     "output_type": "display_data"
    }
   ],
   "source": [
    "d = [1,3,5,10,20]\n",
    "plt.scatter(instances, lables)\n",
    "for deg in d:\n",
    "    poly3 = PolynomialFeatures(deg)\n",
    "    Fi_matrix3 = poly3.fit_transform(instances)\n",
    "    reg3 = LinearRegression().fit(Fi_matrix3, lables)\n",
    "    reg3.coef_[0] = reg3.coef_[0] + reg3.intercept_\n",
    "\n",
    "    estimated_values3 = []\n",
    "    for i in range(instances.shape[0]):\n",
    "        h = np.dot(Fi_matrix3[i],np.transpose(reg3.coef_))\n",
    "        estimated_values3.append(h)\n",
    "    err3 = mean_squared_error(lables, estimated_values3)\n",
    "    plt.plot(instances, estimated_values3)\n",
    "    print(f'Error for degree={deg} is {err3}.')\n"
   ]
  },
  {
   "cell_type": "markdown",
   "metadata": {},
   "source": [
    "### (b)"
   ]
  },
  {
   "cell_type": "markdown",
   "metadata": {},
   "source": [
    "Razdvojite skup primjera iz zadatka 2 pomoću funkcije [`model_selection.train_test_split`](https://scikit-learn.org/stable/modules/generated/sklearn.model_selection.train_test_split.html) na skup za učenja i skup za ispitivanje u omjeru 1:1. Prikažite na jednom grafikonu pogrešku učenja i ispitnu pogrešku za modele polinomijalne regresije $\\mathcal{H}_d$, sa stupnjem polinoma $d$ u rasponu $d\\in [1,2,\\ldots,20]$. Budući da kvadratna pogreška brzo raste za veće stupnjeve polinoma, umjesto da iscrtate izravno iznose pogrešaka, iscrtajte njihove logaritme.\n",
    "\n",
    "**NB:** Podjela na skupa za učenje i skup za ispitivanje mora za svih dvadeset modela biti identična.\n",
    "\n",
    "**Q:** Je li rezultat u skladu s očekivanjima? Koji biste model odabrali i zašto?\n",
    "\n",
    "**Q:** Pokrenite iscrtavanje više puta. U čemu je problem? Bi li problem bio jednako izražen kad bismo imali više primjera? Zašto?"
   ]
  },
  {
   "cell_type": "code",
   "execution_count": 112,
   "metadata": {},
   "outputs": [],
   "source": [
    "from operator import matmul\n",
    "\n",
    "\n",
    "def calculateLinearRegError(deg, X_train, X_test, y_train, y_test):\n",
    "    poly = PolynomialFeatures(deg)\n",
    "    Fi_matrix = poly.fit_transform(X_train)\n",
    "    reg = LinearRegression().fit(Fi_matrix, y_train)\n",
    "    reg.coef_[0] = reg.coef_[0] + reg.intercept_\n",
    "\n",
    "    estimated_values = []\n",
    "    #for i in range(X_train.shape[0]):\n",
    "        #h = np.dot(Fi_matrix[i],np.transpose(reg.coef_))\n",
    "        #estimated_values.append(h)\n",
    "\n",
    "    estimated_values = matmul(Fi_matrix, reg.coef_)\n",
    "    err_train = np.log(mean_squared_error(y_train, estimated_values))\n",
    "\n",
    "    Fi_matrix_test= poly.fit_transform(X_test)\n",
    "    predicted_y = reg.predict(Fi_matrix_test)\n",
    "    err_test = np.log(mean_squared_error(y_test, predicted_y))\n",
    "\n",
    "    return err_train, err_test"
   ]
  },
  {
   "cell_type": "code",
   "execution_count": 128,
   "metadata": {
    "collapsed": true
   },
   "outputs": [
    {
     "data": {
      "text/plain": [
       "[<matplotlib.lines.Line2D at 0x233a8d43100>]"
      ]
     },
     "execution_count": 128,
     "metadata": {},
     "output_type": "execute_result"
    },
    {
     "data": {
      "image/png": "[encoded data removed]",
      "text/plain": [
       "<Figure size 432x288 with 1 Axes>"
      ]
     },
     "metadata": {
      "needs_background": "light"
     },
     "output_type": "display_data"
    }
   ],
   "source": [
    "from sklearn.model_selection import train_test_split\n",
    "\n",
    "#def error_graph(instances, lables):\n",
    "error_train = []\n",
    "error_test = []\n",
    "X_train3b, X_test3b, y_train3b, y_test3b = train_test_split(instances, lables, test_size=0.5)\n",
    "\n",
    "degr = list(range(1,21,1))\n",
    "for deg in degr:\n",
    "    e_tr, e_ts = calculateLinearRegError(deg, X_train3b, X_test3b, y_train3b, y_test3b)\n",
    "    error_train.append(e_tr)\n",
    "    error_test.append(e_ts)\n",
    "plt.plot(degr, error_train)\n",
    "plt.plot(degr, error_test)\n",
    "\n",
    "#error_graph(instances = instances, lables = lables)\n",
    "    \n",
    "\n"
   ]
  },
  {
   "cell_type": "markdown",
   "metadata": {},
   "source": [
    "### (c)"
   ]
  },
  {
   "cell_type": "markdown",
   "metadata": {},
   "source": [
    "Točnost modela ovisi o (1) njegovoj složenosti (stupanj $d$ polinoma), (2) broju primjera $N$, i (3) količini šuma. Kako biste to analizirali, nacrtajte grafikone pogrešaka kao u 3b, ali za različit $N\\in$ (trećina, dvije trećine, sve) i količine šuma $\\sigma\\in\\{100,200,500\\}$ (ukupno 9 grafikona). Upotrijebite funkciju [`subplots`](http://matplotlib.org/examples/pylab_examples/subplots_demo.html) kako biste pregledno posložili grafikone u tablicu $3\\times 3$. Podatci se generiraju na isti način kao u zadatku 2.\n",
    "\n",
    "**NB:** Pobrinite se da svi grafikoni budu generirani nad usporedivim skupovima podataka, na sljedeći način. Generirajte najprije svih 1000 primjera, podijelite ih na skupove za učenje i skupove za ispitivanje (dva skupa od po 500 primjera). Zatim i od skupa za učenje i od skupa za ispitivanje načinite tri različite verzije, svaka s drugačijom količinom šuma (ukupno 2x3=6 verzija podataka). Kako bi simulirali veličinu skupa podataka, od tih dobivenih 6 skupova podataka uzorkujte trećinu, dvije trećine i sve podatke. Time ste dobili 18 skupova podataka -- skup za učenje i za testiranje za svaki od devet grafova."
   ]
  },
  {
   "cell_type": "code",
   "execution_count": 89,
   "metadata": {
    "collapsed": true
   },
   "outputs": [
    {
     "data": {
      "image/png": "[encoded data removed]",
      "text/plain": [
       "<Figure size 432x288 with 9 Axes>"
      ]
     },
     "metadata": {
      "needs_background": "light"
     },
     "output_type": "display_data"
    }
   ],
   "source": [
    "N_examples = make_instances(-5,5,1000)\n",
    "X_500test, X_500train = train_test_split(N_examples, test_size=0.5)\n",
    "\n",
    "nr_graf = 1\n",
    "sigma = [100, 200, 500]\n",
    "degr = list(range(1,21,1))\n",
    "#plt.subplots_adjust(left=0.125, bottom=0.1, right=0.9, top=0.9, wspace=None, hspace=None)\n",
    "\n",
    "fig, axes = plt.subplots(3,3, constrained_layout=True)\n",
    "\n",
    "for sig in sigma:\n",
    "    Y_500train, n_n = make_labels (X_500train, 0, sig)\n",
    "    Y_500test, n_n2 = make_labels (X_500test, 0, sig)\n",
    "    for j in range(1,4,1):\n",
    "        list_error_train = []\n",
    "        list_error_test = []\n",
    "        X_train3c = X_500train[:j*166]\n",
    "        X_test3c = X_500test[:j*166]\n",
    "        y_train3c = Y_500train[:j*166]\n",
    "        y_test3c = Y_500test[:j*166]\n",
    "        for d in degr:\n",
    "            e_tr, e_ts = calculateLinearRegError(d, X_train3c, X_test3c, y_train3c, y_test3c)\n",
    "            list_error_train.append(e_tr)\n",
    "            list_error_test.append(e_ts)\n",
    "        plt.subplot(3,3,nr_graf)\n",
    "        nr_graf+=1\n",
    "        plt.plot(degr, list_error_train)\n",
    "        plt.plot(degr, list_error_test)\n",
    "        plt.title(f'sigma = {sig}, N = {j}/3')\n",
    "\n"
   ]
  },
  {
   "cell_type": "markdown",
   "metadata": {},
   "source": [
    "***Q:*** Jesu li rezultati očekivani? Obrazložite."
   ]
  },
  {
   "cell_type": "markdown",
   "metadata": {},
   "source": [
    "### 4. Regularizirana regresija"
   ]
  },
  {
   "cell_type": "markdown",
   "metadata": {},
   "source": [
    "### (a)\n",
    "\n",
    "U gornjim eksperimentima nismo koristili **regularizaciju**. Vratimo se najprije na primjer iz zadatka 1. Na primjerima iz tog zadatka izračunajte težine $\\mathbf{w}$ za polinomijalni regresijski model stupnja $d=3$ uz L2-regularizaciju (tzv. *ridge regression*), prema izrazu $\\mathbf{w}=(\\mathbf{\\Phi}^\\intercal\\mathbf{\\Phi}+\\lambda\\mathbf{I})^{-1}\\mathbf{\\Phi}^\\intercal\\mathbf{y}$. Napravite izračun težina za regularizacijske faktore $\\lambda=0$, $\\lambda=1$ i $\\lambda=10$ te usporedite dobivene težine.\n",
    "\n",
    "**Q:** Kojih je dimenzija matrica koju treba invertirati?\n",
    "\n",
    "**Q:** Po čemu se razlikuju dobivene težine i je li ta razlika očekivana? Obrazložite."
   ]
  },
  {
   "cell_type": "code",
   "execution_count": 90,
   "metadata": {
    "collapsed": true
   },
   "outputs": [
    {
     "name": "stdout",
     "output_type": "stream",
     "text": [
      "[ 4.         -5.91666667  3.375      -0.45833333]\n",
      "[ 3.05696145 -0.69079365 -0.2831746   0.1445805 ]\n",
      "[ 2.49444184 -0.15897295 -0.13423067  0.0815601 ]\n"
     ]
    }
   ],
   "source": [
    "poly = PolynomialFeatures(degree=3)\n",
    "Fi_matrix4a = poly.fit_transform(X)\n",
    "Fi_matrix4a_T = np.transpose(Fi_matrix4a)\n",
    "lambda_val = [0,1,10]\n",
    "for l in lambda_val:\n",
    "    lambda_identity = np.dot(l,np.identity(4))\n",
    "    lambda_identity[0][0]=0\n",
    "    W_4a = linalg.inv((np.matmul(Fi_matrix4a_T, Fi_matrix4a)+lambda_identity))\n",
    "    W_4a = np.matmul(np.matmul(W_4a, Fi_matrix4a_T), y)\n",
    "    print(W_4a)\n"
   ]
  },
  {
   "cell_type": "markdown",
   "metadata": {},
   "source": [
    "### (b)"
   ]
  },
  {
   "cell_type": "markdown",
   "metadata": {},
   "source": [
    "Proučite klasu [`Ridge`](http://scikit-learn.org/stable/modules/generated/sklearn.linear_model.Ridge.html#sklearn.linear_model.Ridge) iz modula [`sklearn.linear_model`](http://scikit-learn.org/stable/modules/classes.html#module-sklearn.linear_model), koja implementira L2-regularizirani regresijski model. Parametar $\\alpha$ odgovara parametru $\\lambda$. Primijenite model na istim primjerima kao u prethodnom zadatku i ispišite težine $\\mathbf{w}$ (atributi `coef_` i `intercept_`). Ponovno, pripazite na pomak.\n",
    "\n",
    "**Q:** Jesu li težine identične onima iz zadatka 4a? Ako nisu, objasnite zašto je to tako i kako biste to popravili."
   ]
  },
  {
   "cell_type": "code",
   "execution_count": 91,
   "metadata": {
    "collapsed": true
   },
   "outputs": [
    {
     "name": "stdout",
     "output_type": "stream",
     "text": [
      "[ 0.         -5.91666667  3.375      -0.45833333]\n",
      "4.000000000000021\n",
      "[ 0.         -0.69079365 -0.2831746   0.1445805 ]\n",
      "3.0569614512471652\n",
      "[ 0.         -0.15897295 -0.13423067  0.0815601 ]\n",
      "2.4944418431229725\n"
     ]
    }
   ],
   "source": [
    "from sklearn.linear_model import Ridge\n",
    "for l in lambda_val:\n",
    "    clf = Ridge(l)\n",
    "    clf.fit(Fi_matrix4a, y)\n",
    "    print(clf.coef_)\n",
    "    print(clf.intercept_)"
   ]
  },
  {
   "cell_type": "markdown",
   "metadata": {},
   "source": [
    "### (c)\n",
    "\n",
    "Vratimo se na slučaj $N=50$ slučajno generiranih primjera iz zadatka 2. Trenirajte modele polinomijalne regresije $\\mathcal{H}_{\\lambda,d}$ za $\\lambda\\in\\{0,100\\}$ i $d\\in\\{2,10\\}$ (ukupno četiri modela). Skicirajte pripadne funkcije $h(\\mathbf{x})$ i primjere (na jednom grafikonu; preporučujemo koristiti `plot` unutar `for` petlje).\n",
    "\n",
    "**Q:** Jesu li rezultati očekivani? Obrazložite."
   ]
  },
  {
   "cell_type": "code",
   "execution_count": 92,
   "metadata": {},
   "outputs": [],
   "source": [
    "def ridge_h_Calculate (deg, lambda_val, X_train, y_train):\n",
    "    poly4 = PolynomialFeatures(deg)\n",
    "    Fi_matrix4 = poly4.fit_transform(X_train)\n",
    "    clf4  = Ridge(lambda_val)\n",
    "    clf4.fit(Fi_matrix4, y_train)\n",
    "    clf4.coef_[0] = clf4.coef_[0] + clf4.intercept_\n",
    "    H=[]\n",
    "    for i in range(X_train.shape[0]):\n",
    "        h = np.dot(Fi_matrix4[i],np.transpose(clf4.coef_))\n",
    "        H.append(h)\n",
    "    plt.plot(X_train, H)"
   ]
  },
  {
   "cell_type": "code",
   "execution_count": 93,
   "metadata": {
    "collapsed": true
   },
   "outputs": [
    {
     "data": {
      "image/png": "[encoded data removed]",
      "text/plain": [
       "<Figure size 432x288 with 1 Axes>"
      ]
     },
     "metadata": {
      "needs_background": "light"
     },
     "output_type": "display_data"
    }
   ],
   "source": [
    "lambda_val = [0,100]\n",
    "degrees = [2,10]\n",
    "plt.scatter(instances, lables)\n",
    "for l in lambda_val:\n",
    "    for d in degrees:\n",
    "        ridge_h_Calculate (d, l, instances, lables)\n"
   ]
  },
  {
   "cell_type": "markdown",
   "metadata": {},
   "source": [
    "### (d)\n",
    "\n",
    "Kao u zadataku 3b, razdvojite primjere na skup za učenje i skup za ispitivanje u omjeru 1:1. Prikažite krivulje logaritama pogreške učenja i ispitne pogreške u ovisnosti za model $\\mathcal{H}_{d=10,\\lambda}$, podešavajući faktor regularizacije $\\lambda$ u rasponu $\\lambda\\in\\{0,1,\\dots,50\\}$.\n",
    "\n",
    "**Q:** Kojoj strani na grafikonu odgovara područje prenaučenosti, a kojoj podnaučenosti? Zašto?\n",
    "\n",
    "**Q:** Koju biste vrijednosti za $\\lambda$ izabrali na temelju ovih grafikona i zašto?\n"
   ]
  },
  {
   "cell_type": "code",
   "execution_count": 94,
   "metadata": {},
   "outputs": [],
   "source": [
    "def ridge_err_Calc(lambda_v, X_train, X_test, y_train, y_test, Fi_matrix4d, poly4d):\n",
    "    clf4  = Ridge(lambda_v)\n",
    "    clf4.fit(Fi_matrix4d, y_train)\n",
    "    clf4.coef_[0] = clf4.coef_[0] + clf4.intercept_\n",
    "\n",
    "    estimated_y = matmul(Fi_matrix4d, np.transpose(clf4.coef_))\n",
    "    err_train = np.log(mean_squared_error(y_train, estimated_y))\n",
    "\n",
    "    Fi_matrix_test = poly4d.fit_transform(X_test)\n",
    "    pred_y = clf4.predict(Fi_matrix_test)\n",
    "    err_test = np.log(mean_squared_error(y_test, pred_y))\n",
    "    return err_train, err_test"
   ]
  },
  {
   "cell_type": "code",
   "execution_count": 95,
   "metadata": {
    "collapsed": true
   },
   "outputs": [
    {
     "data": {
      "text/plain": [
       "[<matplotlib.lines.Line2D at 0x233a5c10b50>]"
      ]
     },
     "execution_count": 95,
     "metadata": {},
     "output_type": "execute_result"
    },
    {
     "data": {
      "image/png": "[encoded data removed]",
      "text/plain": [
       "<Figure size 432x288 with 1 Axes>"
      ]
     },
     "metadata": {
      "needs_background": "light"
     },
     "output_type": "display_data"
    }
   ],
   "source": [
    "degree = 10\n",
    "lambda_val_4d = list(range(0,51,1))\n",
    "X_train, X_test, y_train, y_test = train_test_split(instances, lables, test_size=0.5)\n",
    "\n",
    "poly4d = PolynomialFeatures(10)\n",
    "Fi_matrix4d = poly4d.fit_transform(X_train)\n",
    "\n",
    "err_tr = []\n",
    "err_ts = []\n",
    "for l in lambda_val_4d:\n",
    "    e_tr, e_ts = ridge_err_Calc(l, X_train, X_test, y_train, y_test, Fi_matrix4d, poly4d)\n",
    "    err_tr.append(e_tr)\n",
    "    err_ts.append(e_ts)\n",
    "plt.plot(lambda_val_4d, err_tr)\n",
    "plt.plot(lambda_val_4d, err_ts)\n",
    "\n"
   ]
  },
  {
   "cell_type": "markdown",
   "metadata": {},
   "source": [
    "### 5. L1-regularizacija i L2-regularizacija"
   ]
  },
  {
   "cell_type": "markdown",
   "metadata": {},
   "source": [
    "Svrha regularizacije jest potiskivanje težina modela $\\mathbf{w}$ prema nuli, kako bi model bio što jednostavniji. Složenost modela može se okarakterizirati normom pripadnog vektora težina $\\mathbf{w}$, i to tipično L2-normom ili L1-normom. Za jednom trenirani model možemo izračunati i broj ne-nul značajki, ili L0-normu, pomoću sljedeće funkcije koja prima vektor težina $\\mathbf{w}$:"
   ]
  },
  {
   "cell_type": "code",
   "execution_count": 96,
   "metadata": {
    "collapsed": true
   },
   "outputs": [],
   "source": [
    "def nonzeroes(coef, tol=1e-6): \n",
    "    return len(coef) - len(coef[np.isclose(0, coef, atol=tol)])"
   ]
  },
  {
   "cell_type": "markdown",
   "metadata": {},
   "source": [
    "### (a)\n",
    "\n",
    "Za ovaj zadatak upotrijebite skup za učenje i skup za testiranje iz zadatka 3b. Trenirajte modele **L2-regularizirane** polinomijalne regresije stupnja $d=5$, mijenjajući hiperparametar $\\lambda$ u rasponu $\\{1,2,\\dots,100\\}$. Za svaki od treniranih modela izračunajte L{0,1,2}-norme vektora težina $\\mathbf{w}$ te ih prikažite kao funkciju od $\\lambda$. Pripazite što točno šaljete u funkciju za izračun normi.\n",
    "\n",
    "**Q:** Objasnite oblik obiju krivulja. Hoće li krivulja za $\\|\\mathbf{w}\\|_2$ doseći nulu? Zašto? Je li to problem? Zašto?\n",
    "\n",
    "**Q:** Za $\\lambda=100$, koliki je postotak težina modela jednak nuli, odnosno koliko je model rijedak?"
   ]
  },
  {
   "cell_type": "code",
   "execution_count": 97,
   "metadata": {},
   "outputs": [],
   "source": [
    "def norm_Calculate (l, Fi_matrix5a, y_train3b):\n",
    "    clf5a = Ridge(l)\n",
    "    clf5a.fit(Fi_matrix5a, y_train3b)\n",
    "    clf5a.coef_[0] = clf5a.coef_[0] + clf5a.intercept_\n",
    "    # for w in clf5a.coef_:\n",
    "    #     if w==0.0:\n",
    "    #         l0+=1\n",
    "    l0=nonzeroes(clf5a.coef_)\n",
    "    l1=linalg.norm(clf5a.coef_, ord=1)\n",
    "    l2=linalg.norm(clf5a.coef_)\n",
    "    return l0,l1,l2\n",
    "\n",
    "\n"
   ]
  },
  {
   "cell_type": "code",
   "execution_count": 129,
   "metadata": {
    "collapsed": true
   },
   "outputs": [
    {
     "data": {
      "text/plain": [
       "[<matplotlib.lines.Line2D at 0x233a8daaaf0>]"
      ]
     },
     "execution_count": 129,
     "metadata": {},
     "output_type": "execute_result"
    },
    {
     "data": {
      "image/png": "[encoded data removed]",
      "text/plain": [
       "<Figure size 432x288 with 1 Axes>"
      ]
     },
     "metadata": {
      "needs_background": "light"
     },
     "output_type": "display_data"
    }
   ],
   "source": [
    "from sklearn.linear_model import Ridge\n",
    "\n",
    "L_0 = []\n",
    "L_1 = []\n",
    "L_2 = []\n",
    "\n",
    "lambda_val_5a = list(range(1,101,1))\n",
    "\n",
    "poly5a = PolynomialFeatures(degree=5)\n",
    "Fi_matrix5a = poly5a.fit_transform(X_train3b)\n",
    "\n",
    "for l in lambda_val_5a:\n",
    "    l0, l1, l2 = norm_Calculate(l, Fi_matrix5a, y_train3b)\n",
    "    L_0.append(l0)\n",
    "    L_1.append(l1)\n",
    "    L_2.append(l2)\n",
    "\n",
    "plt.plot(lambda_val_5a, L_0)\n",
    "plt.plot(lambda_val_5a, L_1)\n",
    "plt.plot(lambda_val_5a, L_2)"
   ]
  },
  {
   "cell_type": "markdown",
   "metadata": {},
   "source": [
    "### (b)"
   ]
  },
  {
   "cell_type": "markdown",
   "metadata": {},
   "source": [
    "Glavna prednost L1-regularizirane regresije (ili *LASSO regression*) nad L2-regulariziranom regresijom jest u tome što L1-regularizirana regresija rezultira **rijetkim modelima** (engl. *sparse models*), odnosno modelima kod kojih su mnoge težine pritegnute na nulu. Pokažite da je to doista tako, ponovivši gornji eksperiment s **L1-regulariziranom** regresijom, implementiranom u klasi  [`Lasso`](http://scikit-learn.org/stable/modules/generated/sklearn.linear_model.Lasso.html) u modulu [`sklearn.linear_model`](http://scikit-learn.org/stable/modules/classes.html#module-sklearn.linear_model)."
   ]
  },
  {
   "cell_type": "code",
   "execution_count": 99,
   "metadata": {},
   "outputs": [],
   "source": [
    "from sklearn.linear_model import Lasso\n",
    "\n",
    "def norm_CalculateL1(l, Fi_matrix5b, y_train3b):\n",
    "    clf5b = Lasso(l)\n",
    "    clf5b.fit(Fi_matrix5b, y_train3b)\n",
    "    clf5b.coef_[0] = clf5b.coef_[0] + clf5b.intercept_\n",
    "    # for w in clf5a.coef_:\n",
    "    #     if w==0.0:\n",
    "    #         l0+=1\n",
    "    l0=nonzeroes(clf5b.coef_)\n",
    "    l1=linalg.norm(clf5b.coef_, ord=1)\n",
    "    l2=linalg.norm(clf5b.coef_)\n",
    "    return l0,l1,l2"
   ]
  },
  {
   "cell_type": "code",
   "execution_count": 130,
   "metadata": {
    "collapsed": true
   },
   "outputs": [
    {
     "data": {
      "text/plain": [
       "[<matplotlib.lines.Line2D at 0x233a8e17c70>]"
      ]
     },
     "execution_count": 130,
     "metadata": {},
     "output_type": "execute_result"
    },
    {
     "data": {
      "image/png": "[encoded data removed]",
      "text/plain": [
       "<Figure size 432x288 with 1 Axes>"
      ]
     },
     "metadata": {
      "needs_background": "light"
     },
     "output_type": "display_data"
    }
   ],
   "source": [
    "L_0 = []\n",
    "L_1 = []\n",
    "L_2 = []\n",
    "\n",
    "lambda_val_5b = list(range(1,101,1))\n",
    "\n",
    "poly5b = PolynomialFeatures(degree=5)\n",
    "Fi_matrix5b = poly5b.fit_transform(X_train3b)\n",
    "\n",
    "for l in lambda_val_5b:\n",
    "    l0, l1, l2 = norm_CalculateL1(l, Fi_matrix5b, y_train3b)\n",
    "    L_0.append(l0)\n",
    "    L_1.append(l1)\n",
    "    L_2.append(l2)\n",
    "\n",
    "plt.plot(lambda_val_5a, L_0)\n",
    "plt.plot(lambda_val_5a, L_1)\n",
    "plt.plot(lambda_val_5a, L_2)"
   ]
  },
  {
   "cell_type": "markdown",
   "metadata": {},
   "source": [
    "### 6. Značajke različitih skala"
   ]
  },
  {
   "cell_type": "markdown",
   "metadata": {},
   "source": [
    "Često se u praksi možemo susreti sa podatcima u kojima sve značajke nisu jednakih magnituda. Primjer jednog takvog skupa je regresijski skup podataka `grades` u kojem se predviđa prosjek ocjena studenta na studiju (1--5) na temelju dvije značajke: bodova na prijamnom ispitu (1--3000) i prosjeka ocjena u srednjoj školi. Prosjek ocjena na studiju izračunat je kao težinska suma ove dvije značajke uz dodani šum.\n",
    "\n",
    "Koristite sljedeći kôd kako biste generirali ovaj skup podataka."
   ]
  },
  {
   "cell_type": "code",
   "execution_count": 101,
   "metadata": {
    "collapsed": true
   },
   "outputs": [],
   "source": [
    "n_data_points = 500\n",
    "np.random.seed(69)\n",
    "\n",
    "# Generiraj podatke o bodovima na prijamnom ispitu koristeći normalnu razdiobu i ograniči ih na interval [1, 3000].\n",
    "exam_score = np.random.normal(loc=1500.0, scale = 500.0, size = n_data_points) \n",
    "exam_score = np.round(exam_score)\n",
    "exam_score[exam_score > 3000] = 3000\n",
    "exam_score[exam_score < 0] = 0\n",
    "\n",
    "# Generiraj podatke o ocjenama iz srednje škole koristeći normalnu razdiobu i ograniči ih na interval [1, 5].\n",
    "grade_in_highschool = np.random.normal(loc=3, scale = 2.0, size = n_data_points)\n",
    "grade_in_highschool[grade_in_highschool > 5] = 5\n",
    "grade_in_highschool[grade_in_highschool < 1] = 1\n",
    "\n",
    "# Matrica dizajna.\n",
    "grades_X = np.array([exam_score,grade_in_highschool]).T\n",
    "\n",
    "# Završno, generiraj izlazne vrijednosti.\n",
    "rand_noise = np.random.normal(loc=0.0, scale = 0.5, size = n_data_points)\n",
    "exam_influence = 0.9\n",
    "grades_y = ((exam_score / 3000.0) * (exam_influence) + (grade_in_highschool / 5.0) \\\n",
    "            * (1.0 - exam_influence)) * 5.0 + rand_noise\n",
    "grades_y[grades_y < 1] = 1\n",
    "grades_y[grades_y > 5] = 5"
   ]
  },
  {
   "cell_type": "markdown",
   "metadata": {},
   "source": [
    "### a)"
   ]
  },
  {
   "cell_type": "markdown",
   "metadata": {},
   "source": [
    "Iscrtajte ovisnost ciljne vrijednosti (y-os) o prvoj i o drugoj značajki (x-os). Iscrtajte dva odvojena grafa."
   ]
  },
  {
   "cell_type": "code",
   "execution_count": 102,
   "metadata": {
    "collapsed": true
   },
   "outputs": [
    {
     "data": {
      "text/plain": [
       "<matplotlib.collections.PathCollection at 0x233a5fbb190>"
      ]
     },
     "execution_count": 102,
     "metadata": {},
     "output_type": "execute_result"
    },
    {
     "data": {
      "image/png": "[encoded data removed]",
      "text/plain": [
       "<Figure size 432x288 with 1 Axes>"
      ]
     },
     "metadata": {
      "needs_background": "light"
     },
     "output_type": "display_data"
    }
   ],
   "source": [
    "plt.scatter(exam_score, grades_y)"
   ]
  },
  {
   "cell_type": "code",
   "execution_count": 103,
   "metadata": {
    "collapsed": true
   },
   "outputs": [
    {
     "data": {
      "text/plain": [
       "<matplotlib.collections.PathCollection at 0x233a60b2b20>"
      ]
     },
     "execution_count": 103,
     "metadata": {},
     "output_type": "execute_result"
    },
    {
     "data": {
      "image/png": "[encoded data removed]",
      "text/plain": [
       "<Figure size 432x288 with 1 Axes>"
      ]
     },
     "metadata": {
      "needs_background": "light"
     },
     "output_type": "display_data"
    }
   ],
   "source": [
    "plt.scatter(grade_in_highschool, grades_y)"
   ]
  },
  {
   "cell_type": "markdown",
   "metadata": {},
   "source": [
    "### b)"
   ]
  },
  {
   "cell_type": "markdown",
   "metadata": {},
   "source": [
    "Naučite model L2-regularizirane regresije ($\\lambda = 0.01$), na podacima `grades_X` i `grades_y`:"
   ]
  },
  {
   "cell_type": "code",
   "execution_count": 104,
   "metadata": {
    "collapsed": true
   },
   "outputs": [
    {
     "name": "stdout",
     "output_type": "stream",
     "text": [
      "[0.00141497 0.09477276]\n",
      "0.15061179575775974\n"
     ]
    },
    {
     "data": {
      "text/plain": [
       "<matplotlib.collections.PathCollection at 0x233a5af4eb0>"
      ]
     },
     "execution_count": 104,
     "metadata": {},
     "output_type": "execute_result"
    },
    {
     "data": {
      "image/png": "[encoded data removed]",
      "text/plain": [
       "<Figure size 432x288 with 1 Axes>"
      ]
     },
     "metadata": {
      "needs_background": "light"
     },
     "output_type": "display_data"
    }
   ],
   "source": [
    "clf6b = Ridge(0.01)\n",
    "clf6b.fit(grades_X, grades_y)\n",
    "print(clf6b.coef_)\n",
    "print(clf6b.intercept_)\n",
    "\n",
    "predict_y_grades = clf6b.predict(grades_X)\n",
    "\n",
    "plt.scatter(exam_score, grades_y)\n",
    "plt.scatter(exam_score, predict_y_grades, color='orange')\n"
   ]
  },
  {
   "cell_type": "markdown",
   "metadata": {},
   "source": [
    "Sada ponovite gornji eksperiment, ali prvo skalirajte podatke `grades_X` i `grades_y` i spremite ih u varijable `grades_X_fixed` i `grades_y_fixed`. Za tu svrhu, koristite [`StandardScaler`](http://scikit-learn.org/stable/modules/generated/sklearn.preprocessing.StandardScaler.html)."
   ]
  },
  {
   "cell_type": "code",
   "execution_count": 105,
   "metadata": {
    "collapsed": true
   },
   "outputs": [
    {
     "name": "stdout",
     "output_type": "stream",
     "text": [
      "[[0.81630375 0.15167761]]\n",
      "[8.62551331e-17]\n"
     ]
    }
   ],
   "source": [
    "from sklearn.preprocessing import StandardScaler\n",
    "\n",
    "scaler_x = StandardScaler()\n",
    "scaler_y = StandardScaler()\n",
    "\n",
    "grades_X_fixed = scaler_x.fit_transform(grades_X)\n",
    "grades_y_fixed = scaler_y.fit_transform(grades_y.reshape(-1,1))\n",
    "\n",
    "clf6b.fit(grades_X_fixed, grades_y_fixed)\n",
    "\n",
    "print(clf6b.coef_)\n",
    "print(clf6b.intercept_)"
   ]
  },
  {
   "cell_type": "markdown",
   "metadata": {},
   "source": [
    "**Q:** Gledajući grafikone iz podzadatka (a), koja značajka bi trebala imati veću magnitudu, odnosno važnost pri predikciji prosjeka na studiju? Odgovaraju li težine Vašoj intuiciji? Objasnite.  "
   ]
  },
  {
   "cell_type": "markdown",
   "metadata": {},
   "source": [
    "### 7. Multikolinearnost"
   ]
  },
  {
   "cell_type": "markdown",
   "metadata": {},
   "source": [
    "### a)"
   ]
  },
  {
   "cell_type": "markdown",
   "metadata": {},
   "source": [
    "Izradite skup podataka `grades_X_fixed_colinear` tako što ćete u skupu `grades_X_fixed` iz\n",
    "zadatka *7b* duplicirati zadnji stupac (ocjenu iz srednje škole). Time smo efektivno uveli savršenu multikolinearnost."
   ]
  },
  {
   "cell_type": "code",
   "execution_count": 106,
   "metadata": {
    "collapsed": true
   },
   "outputs": [],
   "source": [
    "grades_X_fixed_colinear = np.hstack((grades_X_fixed, np.tile(grades_X_fixed[:, [-1]], 1)))\n",
    "#print(grades_X_fixed_colinear)"
   ]
  },
  {
   "cell_type": "markdown",
   "metadata": {},
   "source": [
    "Ponovno, naučite na ovom skupu L2-regularizirani model regresije ($\\lambda = 0.01$)."
   ]
  },
  {
   "cell_type": "code",
   "execution_count": 107,
   "metadata": {
    "collapsed": true
   },
   "outputs": [
    {
     "name": "stdout",
     "output_type": "stream",
     "text": [
      "[[0.81630364 0.07583957 0.07583957]]\n",
      "[8.6255971e-17]\n"
     ]
    }
   ],
   "source": [
    "clf7a = Ridge(0.01)\n",
    "clf7a.fit(grades_X_fixed_colinear, grades_y_fixed)\n",
    "print(clf7a.coef_)\n",
    "print(clf7a.intercept_)\n",
    "\n",
    "predict_y_grades = clf7a.predict(grades_X_fixed_colinear)\n",
    "\n"
   ]
  },
  {
   "cell_type": "markdown",
   "metadata": {},
   "source": [
    "**Q:** Usporedite iznose težina s onima koje ste dobili u zadatku *7b*. Što se dogodilo?"
   ]
  },
  {
   "cell_type": "markdown",
   "metadata": {},
   "source": [
    "### b)"
   ]
  },
  {
   "cell_type": "markdown",
   "metadata": {},
   "source": [
    "Slučajno uzorkujte 50% elemenata iz skupa `grades_X_fixed_colinear` i naučite dva modela L2-regularizirane regresije, jedan s $\\lambda=0.01$ i jedan s $\\lambda=1000$). Ponovite ovaj pokus 10 puta (svaki put s drugim podskupom od 50% elemenata).  Za svaki model, ispišite dobiveni vektor težina u svih 10 ponavljanja te ispišite standardnu devijaciju vrijednosti svake od težina (ukupno šest standardnih devijacija, svaka dobivena nad 10 vrijednosti)."
   ]
  },
  {
   "cell_type": "code",
   "execution_count": 108,
   "metadata": {
    "collapsed": true
   },
   "outputs": [
    {
     "name": "stdout",
     "output_type": "stream",
     "text": [
      "n=1 lambda1_coef [[0.79385128 0.06504303 0.06504303]]\n",
      "n=1 lambda2_coef [[0.16436364 0.03812874 0.03812874]]\n",
      "n=2 lambda1_coef [[0.80739011 0.0761075  0.0761075 ]]\n",
      "n=2 lambda2_coef [[0.15992321 0.02415424 0.02415424]]\n",
      "n=3 lambda1_coef [[0.814158   0.07673386 0.07673386]]\n",
      "n=3 lambda2_coef [[0.16128257 0.02717137 0.02717137]]\n",
      "n=4 lambda1_coef [[0.83265053 0.07483515 0.07483515]]\n",
      "n=4 lambda2_coef [[0.16579999 0.03405283 0.03405283]]\n",
      "n=5 lambda1_coef [[0.79735626 0.08013669 0.08013669]]\n",
      "n=5 lambda2_coef [[0.15703356 0.02664742 0.02664742]]\n",
      "n=6 lambda1_coef [[0.81845427 0.04525193 0.04525193]]\n",
      "n=6 lambda2_coef [[0.17833349 0.03188297 0.03188297]]\n",
      "n=7 lambda1_coef [[0.80086373 0.0614553  0.0614553 ]]\n",
      "n=7 lambda2_coef [[0.15563723 0.022474   0.022474  ]]\n",
      "n=8 lambda1_coef [[0.81216485 0.06648337 0.06648337]]\n",
      "n=8 lambda2_coef [[0.16174675 0.03077003 0.03077003]]\n",
      "n=9 lambda1_coef [[0.81501911 0.04444567 0.04444567]]\n",
      "n=9 lambda2_coef [[0.16591703 0.01772788 0.01772788]]\n",
      "n=10 lambda1_coef [[0.81925961 0.07443972 0.07443972]]\n",
      "n=10 lambda2_coef [[0.16617211 0.03087282 0.03087282]]\n",
      "\n",
      "0.011623180539487188\n",
      "0.012827726070765783\n",
      "0.012827726070933252\n",
      "0.011623180539487188\n",
      "0.012827726070765783\n",
      "0.012827726070933252\n"
     ]
    }
   ],
   "source": [
    "from statistics import stdev\n",
    "\n",
    "lambda_1 = 0.01\n",
    "lambda_2 = 1000\n",
    "\n",
    "l1_w0 = []\n",
    "l1_w1 = []\n",
    "l1_w2 = []\n",
    "\n",
    "l2_w0 = []\n",
    "l2_w1 = []\n",
    "l2_w2 = []\n",
    "\n",
    "for i in range (10):\n",
    "    X1, X2, y1, y2 = train_test_split(grades_X_fixed_colinear, grades_y_fixed, test_size=0.5)\n",
    "    clf7b1 = Ridge(lambda_1)\n",
    "    clf7b2 = Ridge(lambda_2)\n",
    "\n",
    "    clf7b1.fit(X1, y1)\n",
    "    clf7b2.fit(X1, y1)\n",
    "\n",
    "    l1_w0.append(clf7b1.coef_[0][0])\n",
    "    l1_w1.append(clf7b1.coef_[0][1])\n",
    "    l1_w2.append(clf7b1.coef_[0][2])\n",
    "\n",
    "    l2_w0.append(clf7b1.coef_[0][0])\n",
    "    l2_w1.append(clf7b1.coef_[0][1])\n",
    "    l2_w2.append(clf7b1.coef_[0][2])\n",
    "\n",
    "    print(f'n={i+1} lambda1_coef {clf7b1.coef_}')\n",
    "    print(f'n={i+1} lambda2_coef {clf7b2.coef_}')\n",
    "print()\n",
    "\n",
    "print(stdev(l1_w0))\n",
    "print(stdev(l1_w1))\n",
    "print(stdev(l1_w2))\n",
    "print(stdev(l2_w0))\n",
    "print(stdev(l2_w1))\n",
    "print(stdev(l2_w2))\n",
    "\n"
   ]
  },
  {
   "cell_type": "markdown",
   "metadata": {},
   "source": [
    "**Q:** Kako regularizacija utječe na stabilnost težina?  \n",
    "**Q:** Jesu li koeficijenti jednakih magnituda kao u prethodnom pokusu? Objasnite zašto."
   ]
  }
 ],
 "metadata": {
  "anaconda-cloud": {},
  "kernelspec": {
   "display_name": "Python 3.9.2 64-bit",
   "language": "python",
   "name": "python3"
  },
  "language_info": {
   "codemirror_mode": {
    "name": "ipython",
    "version": 3
   },
   "file_extension": ".py",
   "mimetype": "text/x-python",
   "name": "python",
   "nbconvert_exporter": "python",
   "pygments_lexer": "ipython3",
   "version": "3.9.2"
  },
  "vscode": {
   "interpreter": {
    "hash": "4469f21fbc21c47ffa87603349daa7a5249faa6327052be7fdd87b78b86059a2"
   }
  }
 },
 "nbformat": 4,
 "nbformat_minor": 4
}
